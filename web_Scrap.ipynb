{
 "cells": [
  {
   "cell_type": "markdown",
   "metadata": {},
   "source": [
    "##### pedidos https con requests\n",
    "##### uso basico de apis\n",
    "##### web scarping con beatiful soup\n"
   ]
  },
  {
   "cell_type": "code",
   "execution_count": 1,
   "metadata": {},
   "outputs": [],
   "source": [
    "import requests\n",
    "import json"
   ]
  },
  {
   "cell_type": "code",
   "execution_count": 2,
   "metadata": {},
   "outputs": [],
   "source": [
    "#Definimos los parametros de nuestra query\n",
    "latitud = -34.6\n",
    "longitud = -58.4\n",
    "fecha = \"1816-07-09\" #AAAA-MM-DD"
   ]
  },
  {
   "cell_type": "code",
   "execution_count": 3,
   "metadata": {},
   "outputs": [],
   "source": [
    "#Hacemos el pedido y guradamos la respuesta en una nueva vriable\n",
    "respuesta_sunset = requests.get(f\"https://api.sunrise-sunset.org/json?lat={latitud}&lng={longitud}&date={fecha}\")"
   ]
  },
  {
   "cell_type": "code",
   "execution_count": 5,
   "metadata": {},
   "outputs": [
    {
     "data": {
      "text/plain": [
       "{'results': {'sunrise': '10:58:20 AM',\n",
       "  'sunset': '8:58:27 PM',\n",
       "  'solar_noon': '3:58:24 PM',\n",
       "  'day_length': '10:00:07',\n",
       "  'civil_twilight_begin': '10:32:04 AM',\n",
       "  'civil_twilight_end': '9:24:44 PM',\n",
       "  'nautical_twilight_begin': '10:00:49 AM',\n",
       "  'nautical_twilight_end': '9:55:58 PM',\n",
       "  'astronomical_twilight_begin': '9:30:19 AM',\n",
       "  'astronomical_twilight_end': '10:26:29 PM'},\n",
       " 'status': 'OK',\n",
       " 'tzid': 'UTC'}"
      ]
     },
     "execution_count": 5,
     "metadata": {},
     "output_type": "execute_result"
    }
   ],
   "source": [
    "#serialización convierte un objeto en memoria en una cadena JSON\n",
    "#aca des-serializamos el objeto que era de tipo HTTPSresponse y lo cargamos como json\n",
    "datos_sunset = respuesta_sunset.json()\n",
    "datos_sunset\n"
   ]
  },
  {
   "cell_type": "code",
   "execution_count": 7,
   "metadata": {},
   "outputs": [
    {
     "data": {
      "text/plain": [
       "dict"
      ]
     },
     "execution_count": 7,
     "metadata": {},
     "output_type": "execute_result"
    }
   ],
   "source": [
    "type(datos_sunset)"
   ]
  },
  {
   "cell_type": "code",
   "execution_count": 6,
   "metadata": {},
   "outputs": [
    {
     "name": "stdout",
     "output_type": "stream",
     "text": [
      "status: OK\n"
     ]
    }
   ],
   "source": [
    "#Evaluamos el status del pedidos\n",
    "sunset_status = datos_sunset[\"status\"]\n",
    "\n",
    "print(f\"status: {sunset_status}\")"
   ]
  },
  {
   "cell_type": "code",
   "execution_count": 13,
   "metadata": {},
   "outputs": [
    {
     "data": {
      "text/plain": [
       "{'sunrise': '10:58:20 AM',\n",
       " 'sunset': '8:58:27 PM',\n",
       " 'solar_noon': '3:58:24 PM',\n",
       " 'day_length': '10:00:07',\n",
       " 'civil_twilight_begin': '10:32:04 AM',\n",
       " 'civil_twilight_end': '9:24:44 PM',\n",
       " 'nautical_twilight_begin': '10:00:49 AM',\n",
       " 'nautical_twilight_end': '9:55:58 PM',\n",
       " 'astronomical_twilight_begin': '9:30:19 AM',\n",
       " 'astronomical_twilight_end': '10:26:29 PM'}"
      ]
     },
     "execution_count": 13,
     "metadata": {},
     "output_type": "execute_result"
    }
   ],
   "source": [
    "datos_sunset[\"results\"]"
   ]
  },
  {
   "cell_type": "code",
   "execution_count": 12,
   "metadata": {},
   "outputs": [
    {
     "name": "stdout",
     "output_type": "stream",
     "text": [
      "El 1816-07-09 el sol se oculto a las 8:58:27 PM (UTC)\n"
     ]
    }
   ],
   "source": [
    "#podemos ver su contenido ya que son diccionarios anidados\n",
    "sunset = datos_sunset[\"results\"][\"sunset\"]\n",
    "print(f\"El {fecha} el sol se oculto a las {sunset} (UTC)\")"
   ]
  },
  {
   "cell_type": "code",
   "execution_count": 14,
   "metadata": {},
   "outputs": [
    {
     "name": "stdout",
     "output_type": "stream",
     "text": [
      "Iterando data_sunset['results']:\n",
      "sunrise\n",
      "sunset\n",
      "solar_noon\n",
      "day_length\n",
      "civil_twilight_begin\n",
      "civil_twilight_end\n",
      "nautical_twilight_begin\n",
      "nautical_twilight_end\n",
      "astronomical_twilight_begin\n",
      "astronomical_twilight_end\n"
     ]
    }
   ],
   "source": [
    "#Iterando sobre sus claves\n",
    "print(\"Iterando data_sunset['results']:\")\n",
    "for elemento in datos_sunset[\"results\"]:\n",
    "    print(elemento)"
   ]
  }
 ],
 "metadata": {
  "kernelspec": {
   "display_name": "Python 3",
   "language": "python",
   "name": "python3"
  },
  "language_info": {
   "codemirror_mode": {
    "name": "ipython",
    "version": 3
   },
   "file_extension": ".py",
   "mimetype": "text/x-python",
   "name": "python",
   "nbconvert_exporter": "python",
   "pygments_lexer": "ipython3",
   "version": "3.12.7"
  }
 },
 "nbformat": 4,
 "nbformat_minor": 2
}
