{
 "cells": [
  {
   "cell_type": "code",
   "execution_count": 3,
   "metadata": {},
   "outputs": [],
   "source": [
    "from bs4 import BeautifulSoup\n",
    "import requests"
   ]
  },
  {
   "cell_type": "code",
   "execution_count": 4,
   "metadata": {},
   "outputs": [
    {
     "name": "stdout",
     "output_type": "stream",
     "text": [
      "version de BeautifulSoup: 4.11.2\n",
      "version de requests: 2.27.1\n"
     ]
    }
   ],
   "source": [
    "#verificamos las versiones\n",
    "import bs4\n",
    "print(\"version de BeautifulSoup:\",bs4.__version__)\n",
    "\n",
    "print(\"version de requests:\",requests.__version__)"
   ]
  },
  {
   "cell_type": "code",
   "execution_count": 6,
   "metadata": {},
   "outputs": [],
   "source": [
    "#1-obtenemos el HTML\n",
    "URL_BASE = \"https://scrapepark.org/courses/spanish/\"\n",
    "pedido_obtenido = requests.get(URL_BASE)\n",
    "html_obtenido = pedido_obtenido.text\n",
    "\n",
    "#2 - parseamos el HTML\n",
    "soup = BeautifulSoup(html_obtenido, \"html.parser\")"
   ]
  },
  {
   "cell_type": "code",
   "execution_count": 7,
   "metadata": {},
   "outputs": [
    {
     "data": {
      "text/plain": [
       "bs4.BeautifulSoup"
      ]
     },
     "execution_count": 7,
     "metadata": {},
     "output_type": "execute_result"
    }
   ],
   "source": [
    "type(soup)"
   ]
  },
  {
   "cell_type": "markdown",
   "metadata": {},
   "source": [
    "##### El metodo find()\n",
    "##### nos  perimte quedarons con la informacion asociada a una etiqueta de HTML"
   ]
  },
  {
   "cell_type": "code",
   "execution_count": 8,
   "metadata": {},
   "outputs": [
    {
     "name": "stdout",
     "output_type": "stream",
     "text": [
      "<h2>¿Por qué comprar con nosotros?</h2>\n"
     ]
    }
   ],
   "source": [
    "primer_h2 = soup.find(\"h2\")\n",
    "print(primer_h2)"
   ]
  },
  {
   "cell_type": "code",
   "execution_count": 9,
   "metadata": {},
   "outputs": [
    {
     "name": "stdout",
     "output_type": "stream",
     "text": [
      "¿Por qué comprar con nosotros?\n"
     ]
    }
   ],
   "source": [
    "#solo el texto\n",
    "print(primer_h2.text)\n",
    "\n",
    "#Equivale a:\n",
    "print(soup.h2.text)"
   ]
  },
  {
   "cell_type": "markdown",
   "metadata": {},
   "source": [
    "##### El metodo find_all()\n",
    "##### Busca TODOS los elemenetos de la pagina con esa etiqueta y devuelve una \"lista\" que los contiene (en realidad devuelve un objeto de la clase bs4 element Result Set)"
   ]
  },
  {
   "cell_type": "code",
   "execution_count": 14,
   "metadata": {},
   "outputs": [
    {
     "name": "stdout",
     "output_type": "stream",
     "text": [
      "[<h2>¿Por qué comprar con nosotros?</h2>, <h2>\n",
      "                  #Novedades\n",
      "                </h2>, <h2>\n",
      "            Nuestros <span>productos</span>\n",
      "</h2>, <h2>\n",
      "            Testimonios de clientes\n",
      "          </h2>, <h2 class=\"heading-container\">\n",
      "          Tabla de precios\n",
      "        </h2>]\n"
     ]
    }
   ],
   "source": [
    "h2_todos = soup.find_all(\"h2\")\n",
    "print(h2_todos)"
   ]
  },
  {
   "cell_type": "code",
   "execution_count": 15,
   "metadata": {},
   "outputs": [
    {
     "name": "stdout",
     "output_type": "stream",
     "text": [
      "[<h2>¿Por qué comprar con nosotros?</h2>]\n"
     ]
    }
   ],
   "source": [
    "#ARGUMENTOS\n",
    "# Si usamos el parametro limit = 1-emulamos al metodo find\n",
    "h2_unosolo = soup.find_all(\"h2\", limit=1)\n",
    "print(h2_unosolo) "
   ]
  },
  {
   "cell_type": "code",
   "execution_count": 16,
   "metadata": {},
   "outputs": [
    {
     "name": "stdout",
     "output_type": "stream",
     "text": [
      "¿Por qué comprar con nosotros?\n",
      "\n",
      "                  #Novedades\n",
      "                \n",
      "\n",
      "            Nuestros productos\n",
      "\n",
      "\n",
      "            Testimonios de clientes\n",
      "          \n",
      "\n",
      "          Tabla de precios\n",
      "        \n"
     ]
    }
   ],
   "source": [
    "#podemos iterar sobre el objeto\n",
    "for seccion in h2_todos:\n",
    "    print(seccion.text)"
   ]
  },
  {
   "cell_type": "code",
   "execution_count": 18,
   "metadata": {},
   "outputs": [
    {
     "name": "stdout",
     "output_type": "stream",
     "text": [
      "¿Por qué comprar con nosotros?\n",
      "#Novedades\n",
      "Nuestrosproductos\n",
      "Testimonios de clientes\n",
      "Tabla de precios\n"
     ]
    }
   ],
   "source": [
    "#get_text() para mas funcionalidades \n",
    "for seccion in h2_todos:\n",
    "                          #me perimte limpiar los espacios en blanoc\n",
    "    print(seccion.get_text(strip=True))"
   ]
  },
  {
   "cell_type": "markdown",
   "metadata": {},
   "source": [
    "<br>utilizando atributos de las etiquetas<br/>"
   ]
  },
  {
   "cell_type": "code",
   "execution_count": 20,
   "metadata": {},
   "outputs": [
    {
     "name": "stdout",
     "output_type": "stream",
     "text": [
      "<div class=\"heading-container heading-center\" id=\"acerca\">\n",
      "<h2>¿Por qué comprar con nosotros?</h2>\n",
      "</div>\n",
      " \n",
      "<div class=\"heading-container heading-center\" id=\"productos\">\n",
      "<h2>\n",
      "            Nuestros <span>productos</span>\n",
      "</h2>\n",
      "</div>\n",
      " \n",
      "<div class=\"heading-container heading-center\">\n",
      "<h3>Suscríbete para obtener descuentos y ofertas</h3>\n",
      "</div>\n",
      " \n",
      "<div class=\"heading-container heading-center\">\n",
      "<h2>\n",
      "            Testimonios de clientes\n",
      "          </h2>\n",
      "</div>\n",
      " \n"
     ]
    }
   ],
   "source": [
    "#CLASE\n",
    "                   #le pasamos la etiqueta de interes y le podemos dar como argumentos\n",
    "                   #distintos atributos, en este caso class_ siempre con el guion bajo\n",
    "divs = soup.find_all(\"div\", class_ = \"heading-container heading-center\")\n",
    "\n",
    "for div in divs:\n",
    "    print(div)\n",
    "    print(\" \")"
   ]
  },
  {
   "cell_type": "code",
   "execution_count": 24,
   "metadata": {},
   "outputs": [
    {
     "name": "stdout",
     "output_type": "stream",
     "text": [
      "<img alt=\"Parque de patinaje\" src=\"images/slider-bg.jpg\"/>\n",
      "<img alt=\"Patineta 2\" src=\"images/p2.jpg\"/>\n"
     ]
    }
   ],
   "source": [
    "# Todas las etiquetas que tengan el atributo \"Src\"\n",
    "\n",
    "src_todos = soup.find_all(src=True)\n",
    "\n",
    "for elemento in src_todos:\n",
    "    #hago una condicion para verificar si el string de src termina en jpg\n",
    "    if elemento [\"src\"].endswith(\".jpg\"):\n",
    "        print(elemento)\n",
    "\n",
    "#src_todos"
   ]
  },
  {
   "cell_type": "code",
   "execution_count": 25,
   "metadata": {},
   "outputs": [
    {
     "name": "stdout",
     "output_type": "stream",
     "text": [
      "images/arrival-bg-store.png\n",
      "images/p1.png\n",
      "images/p3.png\n",
      "images/p4.png\n",
      "images/p5.png\n",
      "images/p6.png\n",
      "images/p7.png\n",
      "images/p8.png\n",
      "images/p9.png\n",
      "images/p10.png\n",
      "images/p11.png\n",
      "images/p12.png\n",
      "images/client-one.png\n",
      "images/client-two.png\n",
      "images/client-three.png\n",
      "./images/freecodecamp-logo.png\n"
     ]
    }
   ],
   "source": [
    "#bajamos todas las imagenes\n",
    "url_imagenes = []\n",
    "\n",
    "for i, imagen in enumerate(src_todos):\n",
    "    \n",
    "    if imagen[\"src\"].endswith(\"png\"):\n",
    "        \n",
    "        print(imagen[\"src\"])\n",
    "        r = requests.get(f\"https://scrapepark.org/courses/spanish/{imagen[\"src\"]}\")\n",
    "        \n",
    "        with open(f\"imagen_{i}.png\", \"wb\") as f:\n",
    "            f.write(r.content)"
   ]
  },
  {
   "cell_type": "code",
   "execution_count": 26,
   "metadata": {},
   "outputs": [
    {
     "name": "stdout",
     "output_type": "stream",
     "text": [
      "['Longboard', '$80', '$85', '$90', '$62', '$150']\n"
     ]
    }
   ],
   "source": [
    "#Informacion de la tabla \n",
    "URL_BASe = \"https://scrapepark.org/courses/spanish/\"\n",
    "URL_TABLA = soup.find_all(\"iframe\")[0][\"src\"]\n",
    "\n",
    "requests_tabla = requests.get(f\"{URL_BASe}/{URL_TABLA}\")\n",
    "\n",
    "html_tabla = requests_tabla.text\n",
    "soup_tabla = BeautifulSoup(html_tabla, \"html.parser\")\n",
    "soup_tabla.find(\"tabla\")\n",
    "\n",
    "#th y td, son las filas y las columnas\n",
    "productos_faltantes = soup_tabla.find_all([\"th\",\"td\"], attrs={\"style\":\"color: red;\"})\n",
    "productos_faltantes = [talle.text for talle in productos_faltantes ]\n",
    "\n",
    "print(productos_faltantes)"
   ]
  },
  {
   "cell_type": "code",
   "execution_count": 30,
   "metadata": {},
   "outputs": [
    {
     "name": "stdout",
     "output_type": "stream",
     "text": [
      "producto: Patineta Nueva 1 | precio:  75\n",
      "producto: Patineta Usada 2 | precio:  80\n",
      "producto: Patineta Nueva 3 | precio:  68\n",
      "producto: Patineta Usada 4 | precio:  70\n",
      "producto: Patineta Nueva 5 | precio:  75\n",
      "producto: Patineta Nueva 6 | precio:  58\n",
      "producto: Patineta Nueva 7 | precio:  80\n",
      "producto: Patineta Nueva 8 | precio:  35\n",
      "producto: Patineta Nueva 9 | precio:  165\n",
      "producto: Patineta Usada 10 | precio:  54\n",
      "producto: Patineta Usada 11 | precio:  99\n",
      "producto: Patineta Nueva 12 | precio:  110\n"
     ]
    }
   ],
   "source": [
    "#obtener los nombres y los precios de cada uno de los productos\n",
    "#muy comun en las pag/tiendas virtuales\n",
    "divs = soup.find_all(\"div\", \"detail-box\")\n",
    "productos = []\n",
    "precios = []\n",
    "\n",
    "for div in divs:\n",
    "    if (div.h6 is not None) and (\"Patineta\" in div.h5.text):\n",
    "        producto = div.h5.get_text(strip=True)\n",
    "        precio = div.h6.get_text(strip=True).replace(\"$\", \" \")\n",
    "        #se puede agregar filtros\n",
    "        print(f\"producto: {producto:<16} | precio: {precio}\")\n",
    "        productos.append(producto)\n",
    "        precios.append(precio)\n",
    "        "
   ]
  },
  {
   "cell_type": "code",
   "execution_count": null,
   "metadata": {},
   "outputs": [],
   "source": []
  }
 ],
 "metadata": {
  "kernelspec": {
   "display_name": "Python 3",
   "language": "python",
   "name": "python3"
  },
  "language_info": {
   "codemirror_mode": {
    "name": "ipython",
    "version": 3
   },
   "file_extension": ".py",
   "mimetype": "text/x-python",
   "name": "python",
   "nbconvert_exporter": "python",
   "pygments_lexer": "ipython3",
   "version": "3.12.7"
  }
 },
 "nbformat": 4,
 "nbformat_minor": 2
}
