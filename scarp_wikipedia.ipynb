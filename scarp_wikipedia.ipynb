{
 "cells": [
  {
   "cell_type": "markdown",
   "metadata": {},
   "source": [
    "#### Uso de api por medio de la libreria wikipedia\n",
    "\n",
    "#### Wikipedia-API es un warpper de python facil de usar para la API de Wikipedia. Admite la extraccion de textos, secciones, enlaces, categorias, traducciones, etc.  "
   ]
  },
  {
   "cell_type": "code",
   "execution_count": 1,
   "metadata": {},
   "outputs": [],
   "source": [
    "import wikipediaapi"
   ]
  },
  {
   "cell_type": "code",
   "execution_count": 2,
   "metadata": {},
   "outputs": [
    {
     "name": "stdout",
     "output_type": "stream",
     "text": [
      "(0, 5, 8)\n"
     ]
    }
   ],
   "source": [
    "print(wikipediaapi.__version__)"
   ]
  },
  {
   "cell_type": "code",
   "execution_count": 11,
   "metadata": {},
   "outputs": [
    {
     "name": "stdout",
     "output_type": "stream",
     "text": [
      "wikipedia_programacion es un objeto de tipo: \n",
      " \n",
      "<class 'wikipediaapi.WikipediaPage'>\n"
     ]
    }
   ],
   "source": [
    "# Definir el idioma\n",
    "IDIOMA = \"es\"\n",
    "\n",
    "# Crear la instancia de Wikipedia especificando el idioma y el user_agent\n",
    "wiki_wiki = wikipediaapi.Wikipedia(IDIOMA)\n",
    "\n",
    "# Hacer una solicitud de la página con una palabra clave\n",
    "palabra_clave = \"programacion\"\n",
    "\n",
    "# Obtener la página\n",
    "wikipedia_programacion = wiki_wiki.page(palabra_clave)\n",
    "\n",
    "# Imprimir el tipo de objeto\n",
    "print(f\"wikipedia_programacion es un objeto de tipo: \\n \\n{type(wikipedia_programacion)}\")\n",
    "\n"
   ]
  },
  {
   "cell_type": "code",
   "execution_count": 12,
   "metadata": {},
   "outputs": [
    {
     "name": "stdout",
     "output_type": "stream",
     "text": [
      "programacion\n",
      "-----------\n",
      "La programación es el proceso de crear un conjunto de instrucciones que le dicen a una computadora como realizar algún tipo de tarea. Pero no solo la acción de escribir un código para que la computadora o el software lo ejecute. Incluye, además, todas las tareas necesarias para que el código funcione correctamente y cumpla el objetivo para el cual se escribió.[1]​\n",
      "En la actualidad, la noción de programación se encuentra muy asociada a la creación de aplicaciones de informática y videojuegos. En este sentido, es el proceso por el cual una persona desarrolla un programa, valiéndose de una herramienta que le permita escribir el código (el cual puede estar en uno o varios lenguajes, como C++, Java y Python, entre muchos otros) y de otra que sea capaz de “traducirlo” a lo que se conoce como lenguaje de máquina, que puede \"comprender\" el microprocesador.[2]​\n"
     ]
    }
   ],
   "source": [
    "#Resumen\n",
    "print(wikipedia_programacion.title)\n",
    "print(\"-----------\")\n",
    "print(wikipedia_programacion.summary)"
   ]
  },
  {
   "cell_type": "code",
   "execution_count": 13,
   "metadata": {},
   "outputs": [
    {
     "name": "stdout",
     "output_type": "stream",
     "text": [
      "https://es.wikipedia.org/wiki/Programaci%C3%B3n\n"
     ]
    }
   ],
   "source": [
    "#URL completa\n",
    "print(wikipedia_programacion.fullurl)"
   ]
  }
 ],
 "metadata": {
  "kernelspec": {
   "display_name": "Python 3",
   "language": "python",
   "name": "python3"
  },
  "language_info": {
   "codemirror_mode": {
    "name": "ipython",
    "version": 3
   },
   "file_extension": ".py",
   "mimetype": "text/x-python",
   "name": "python",
   "nbconvert_exporter": "python",
   "pygments_lexer": "ipython3",
   "version": "3.12.-1"
  }
 },
 "nbformat": 4,
 "nbformat_minor": 2
}
